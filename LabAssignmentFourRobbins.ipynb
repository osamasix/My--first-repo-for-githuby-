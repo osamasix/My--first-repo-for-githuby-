{
 "cells": [
  {
   "cell_type": "code",
   "execution_count": 1,
   "id": "87311879-fb1e-49b9-a27d-6e35c5745fe2",
   "metadata": {},
   "outputs": [],
   "source": [
    "##lAB ASSIGNMENT 4 AND 5\n",
    "# AUTHOR: [Kam Robbins]\n",
    "# DATE: 10/3/24\n",
    "\n",
    "#instructions:\n",
    "# rename this file LabAssignmentFour+your lastname for eg. LabAssignmentFourDebrah\n",
    "\n",
    "#submission:\n",
    "# 1. Submit to brightspace\n",
    "# 2. upload to your git account. "
   ]
  },
  {
   "cell_type": "code",
   "execution_count": 12,
   "id": "fb839d4d-5e96-47ff-b912-fea12dfcd34c",
   "metadata": {},
   "outputs": [
    {
     "name": "stdout",
     "output_type": "stream",
     "text": [
      "The sum of the numbers are: 16\n"
     ]
    }
   ],
   "source": [
    "##Assignment Four (4) Functions\n",
    "\n",
    "#Question One\n",
    "\n",
    "# Write a function add_numbers(a,b) which takes two parameters adds them and returns the result.\n",
    "# Don't forget to test your function\n",
    "\n",
    "\n",
    "def add_numbers(a,b):\n",
    "    return a + b \n",
    "\n",
    "result = add_numbers( 6,10)\n",
    "print(\"The sum of the numbers are:\", result)"
   ]
  },
  {
   "cell_type": "code",
   "execution_count": 15,
   "id": "12034c9c-5485-47ca-abc6-9700dfa4dac9",
   "metadata": {},
   "outputs": [
    {
     "name": "stdout",
     "output_type": "stream",
     "text": [
      "The max number in the list is: 6\n"
     ]
    }
   ],
   "source": [
    "#Question two\n",
    "\n",
    "# Write a function get_min_max(list_numbers) which returns the mininum and maximum of values from the list\n",
    "# Don't forget to test your function\n",
    "\n",
    "def get_min_max():\n",
    "    my_list = [ 1, 2, 3, 4, 5, 6,]\n",
    "    large = max(my_list)\n",
    "    print(\"The max number in the list is:\" , large ) \n",
    "get_min_max()\n",
    "    "
   ]
  },
  {
   "cell_type": "code",
   "execution_count": 28,
   "id": "1c60a180-9034-4e26-b372-80c6bb0c6205",
   "metadata": {},
   "outputs": [
    {
     "name": "stdin",
     "output_type": "stream",
     "text": [
      "enter first number 20\n",
      "enter second number 20\n"
     ]
    },
    {
     "data": {
      "text/plain": [
       "'the sum equals 40'"
      ]
     },
     "execution_count": 28,
     "metadata": {},
     "output_type": "execute_result"
    }
   ],
   "source": [
    "#Question three\n",
    "\n",
    "# Given two integers, return 'The sum of the integers equals 40' if the sum is equal to 40. If not return 'The sum is not equal to 40'\n",
    "# Don't forget to test your function\n",
    "\n",
    "\n",
    "def twoint():\n",
    "    the_first = int(input(\"enter first number\"))\n",
    "    the_second = int(input(\"enter second number\"))\n",
    "    if the_first + the_second ==40:\n",
    "        return \"the sum equals 40\"\n",
    "    else:\n",
    "        return \"the sum is not equal to 40\"\n",
    "\n",
    "\n",
    "\n",
    "\n",
    "\n",
    "\n",
    "twoint()\n",
    "  \n",
    "    "
   ]
  },
  {
   "cell_type": "code",
   "execution_count": 30,
   "id": "4daa87f7-3538-4186-a8c0-11390654a829",
   "metadata": {},
   "outputs": [
    {
     "name": "stdout",
     "output_type": "stream",
     "text": [
      "even numbers: [2, 4, 20, 44, 50]\n"
     ]
    }
   ],
   "source": [
    "#Question four\n",
    "\n",
    "# Write a function the prints the even numbers from a given list. \n",
    "# Don't forget to test your function.\n",
    "\n",
    "\n",
    "def numberz():\n",
    "    new_list = [2, 3, 4, 7, 20, 44, 50]\n",
    "    even = [ num for num in new_list if num % 2 == 0]\n",
    "    print(\"even numbers:\" , even)\n",
    "\n",
    "numberz()"
   ]
  },
  {
   "cell_type": "code",
   "execution_count": 23,
   "id": "67433917-b341-4faf-9086-5f03ff3f651f",
   "metadata": {},
   "outputs": [
    {
     "name": "stdout",
     "output_type": "stream",
     "text": [
      "The sum is: 160\n"
     ]
    }
   ],
   "source": [
    "#Question five\n",
    "\n",
    "# Write a function such that when there are two numbers passed to it only the product is return if the product \n",
    "# is equal to or lower than 500, else return their sum.\n",
    "#Don't forget to test your function. \n",
    "\n",
    "\n",
    "def twonumbs(a,b):\n",
    "    return a + b\n",
    "result = twonumbs(70,90)\n",
    "if result <=500:\n",
    "    print(\"The sum is:\", result)\n",
    "else:\n",
    "    print(\"too high\")"
   ]
  },
  {
   "cell_type": "code",
   "execution_count": 35,
   "id": "b63ccbec-3dae-4c79-912c-c7115dd6a586",
   "metadata": {},
   "outputs": [
    {
     "data": {
      "text/plain": [
       "True"
      ]
     },
     "execution_count": 35,
     "metadata": {},
     "output_type": "execute_result"
    }
   ],
   "source": [
    "#Question six\n",
    "\n",
    "# Write a function to check if the first and the last number of a given list is the same. \n",
    "# If they are the same then return true else return false. \n",
    "def kamslist():\n",
    "    my_list = [2, 4, 6, 8, 2]\n",
    "    if len(my_list) == 0:\n",
    "        return False \n",
    "    return my_list[0] == my_list[-1]\n",
    "kamslist()"
   ]
  },
  {
   "cell_type": "code",
   "execution_count": 33,
   "id": "27d8c956-0271-4c06-a974-e541d2f74778",
   "metadata": {},
   "outputs": [],
   "source": [
    "#Question seven\n",
    "\n",
    "# Write a function which calculates the income tax when a given income take is supplied as an argument. \n",
    "# use the information below to calculate the tax required. \n",
    "# Taxable Income                     Rate(in %)\n",
    "#  First $5000                        0\n",
    "#  Next  $5000                        15\n",
    "#  Remaining                          25\n",
    "\n",
    "# Kindly read on how income tax is calculated. \n",
    "# Don't forget to test your function. \n"
   ]
  },
  {
   "cell_type": "code",
   "execution_count": 82,
   "id": "adf54ab7-15bb-45e9-8b93-fb3e7b9ff479",
   "metadata": {},
   "outputs": [
    {
     "name": "stdout",
     "output_type": "stream",
     "text": [
      "adding new product: {'fruit-unit_price': 'pair', 'Banana': 4, 'pear': 2, 'Apple': 3}\n"
     ]
    }
   ],
   "source": [
    "##Assignment Four (5) Data structures\n",
    "\n",
    "#Question eight\n",
    "\n",
    "# A. Create a dictionary called fruit_store it should be empty. \n",
    "# B. Add the following fruit-unit_price pair to the dictionary you created. \n",
    "#  \"Banana\":4\n",
    "#  \"Pear\": 2\n",
    "#  \"Apple\":3\n",
    "# C. Add a new fruit-unit_price to the dictionary above \n",
    "#    \"Watermelon\": 6\n",
    "# D. Assuming the quantity of Banana is 30, Pear is 40, Apple is 70 and finally watermelon is 60\n",
    "#  i. How much is the total value of our inventory. \n",
    "# E. Print out the list of fruits and their unit_price in our store. \n",
    "\n",
    "\n",
    "fruit_store = {\n",
    "    \"fruit-unit_price\": \"pair\",\n",
    "    \"Banana\":4 ,\n",
    "    \"pear\":2 ,\n",
    "    \"Apple\":3\n",
    "}\n",
    "def add_product(fruit_store):\n",
    "    add_product(fruit_store,\"watermelon\",6)\n",
    "print(\"adding new product:\", fruit_store)\n",
    "\n"
   ]
  },
  {
   "cell_type": "code",
   "execution_count": 67,
   "id": "0114ff25-0ac1-4269-b14c-ceb7176062d3",
   "metadata": {},
   "outputs": [
    {
     "name": "stdout",
     "output_type": "stream",
     "text": [
      "[2, 3, 4]\n"
     ]
    }
   ],
   "source": [
    "#Question nine\n",
    "\n",
    "# Given a list numbers = [0, 1, 2, 3, 4, 5, 6, 7, 8, 9] extract sublist [2, 3, 4] using slicing\n",
    "my_list = [0, 1, 2, 3, 4, 5, 6, 7, 8, 9]\n",
    "sub_list = my_list[2:5]\n",
    "print(sub_list)"
   ]
  },
  {
   "cell_type": "code",
   "execution_count": 84,
   "id": "a4ffc149-b804-49bc-abab-fd1f9368cbbd",
   "metadata": {},
   "outputs": [
    {
     "name": "stdout",
     "output_type": "stream",
     "text": [
      "['cat', 'dog', 'lion', 'skunk', 'elephant', 'tiger']\n"
     ]
    }
   ],
   "source": [
    "#Question ten\n",
    "\n",
    "# Given a list animals = ['cat', 'dog', 'rabbit', 'mouse', 'elephant', 'tiger'] replace the middle two elements with\n",
    "# ['lion','skunk'] using slicing and replacing.\n",
    "ani_list = [\"cat\", \"dog\", \"rabbit\", \"mouse\", \"elephant\", \"tiger\"]\n",
    "ani_list[2:4] = [\"lion\", \"skunk\"]\n",
    "print(ani_list)"
   ]
  },
  {
   "cell_type": "code",
   "execution_count": null,
   "id": "0cae79d4-2151-4271-9018-cf9de5a13271",
   "metadata": {},
   "outputs": [],
   "source": []
  }
 ],
 "metadata": {
  "kernelspec": {
   "display_name": "Python 3 (ipykernel)",
   "language": "python",
   "name": "python3"
  },
  "language_info": {
   "codemirror_mode": {
    "name": "ipython",
    "version": 3
   },
   "file_extension": ".py",
   "mimetype": "text/x-python",
   "name": "python",
   "nbconvert_exporter": "python",
   "pygments_lexer": "ipython3",
   "version": "3.12.3"
  }
 },
 "nbformat": 4,
 "nbformat_minor": 5
}
