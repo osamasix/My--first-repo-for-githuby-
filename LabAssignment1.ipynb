{
 "cells": [
  {
   "cell_type": "code",
   "execution_count": 2,
   "id": "001592a8-55a8-4dc7-8cb9-471d80bb3753",
   "metadata": {},
   "outputs": [
    {
     "name": "stdout",
     "output_type": "stream",
     "text": [
      "I am a Programer\n",
      "I am learning Python\n",
      "Github is so so cool\n"
     ]
    }
   ],
   "source": [
    "# Lab Assignment 1 \n",
    "# Kam Robbins\n",
    "# python github\n",
    "\n",
    "print(\"I am a Programer\")\n",
    "print(\"I am learning Python\")\n",
    "print(\"Github is so so cool\")"
   ]
  },
  {
   "cell_type": "code",
   "execution_count": null,
   "id": "3a887b1d-f8dd-4696-b90e-553f6ab560ca",
   "metadata": {},
   "outputs": [],
   "source": []
  }
 ],
 "metadata": {
  "kernelspec": {
   "display_name": "Python 3 (ipykernel)",
   "language": "python",
   "name": "python3"
  },
  "language_info": {
   "codemirror_mode": {
    "name": "ipython",
    "version": 3
   },
   "file_extension": ".py",
   "mimetype": "text/x-python",
   "name": "python",
   "nbconvert_exporter": "python",
   "pygments_lexer": "ipython3",
   "version": "3.12.3"
  }
 },
 "nbformat": 4,
 "nbformat_minor": 5
}
